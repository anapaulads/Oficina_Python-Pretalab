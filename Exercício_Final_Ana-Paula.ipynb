{
  "nbformat": 4,
  "nbformat_minor": 0,
  "metadata": {
    "colab": {
      "provenance": [],
      "include_colab_link": true
    },
    "kernelspec": {
      "name": "python3",
      "display_name": "Python 3"
    },
    "language_info": {
      "name": "python"
    }
  },
  "cells": [
    {
      "cell_type": "markdown",
      "metadata": {
        "id": "view-in-github",
        "colab_type": "text"
      },
      "source": [
        "<a href=\"https://colab.research.google.com/github/anapaulads/Oficina_Python-Pretalab/blob/main/Exerc%C3%ADcio_Final_Ana-Paula.ipynb\" target=\"_parent\"><img src=\"https://colab.research.google.com/assets/colab-badge.svg\" alt=\"Open In Colab\"/></a>"
      ]
    },
    {
      "cell_type": "markdown",
      "source": [
        "# Contagem de Medalhas\n",
        "\n",
        "Crie um programa que receba o número de medalhas de ouro, prata e bronze de um país nas Olimpíadas e calcule o total de medalhas.\n",
        "Quando escrever 'sair', o programa deverá encerrar e mostrar na tela o ranking de medalhas no formato:"
      ],
      "metadata": {
        "id": "RQN1e5FZY6SZ"
      }
    },
    {
      "cell_type": "code",
      "source": [
        "#Ranking de medalhas:\n",
        "#Brasil: 7 medalhas\n",
        "#França: 6 medalhas\n",
        "#Argentina: 3 medalhas"
      ],
      "metadata": {
        "id": "gCq_KLHzZSzb"
      },
      "execution_count": null,
      "outputs": []
    },
    {
      "cell_type": "code",
      "execution_count": null,
      "metadata": {
        "id": "AJJhjxiPTd5s",
        "outputId": "6f70c651-98e1-46d2-c643-84c983ffba29",
        "colab": {
          "base_uri": "https://localhost:8080/"
        }
      },
      "outputs": [
        {
          "output_type": "stream",
          "name": "stdout",
          "text": [
            "Digite o nome do país (ou \"sair\" para encerrar): Brasil\n",
            "Digite o número de medalhas de ouro para Brasil: 10\n",
            "Digite o número de medalhas de prata para Brasil: 7\n",
            "Digite o número de medalhas de bronze para Brasil: 9\n",
            "Digite o nome do país (ou \"sair\" para encerrar): França\n",
            "Digite o número de medalhas de ouro para França: 4\n",
            "Digite o número de medalhas de prata para França: 8\n",
            "Digite o número de medalhas de bronze para França: 3\n",
            "Digite o nome do país (ou \"sair\" para encerrar): Argentina\n",
            "Digite o número de medalhas de ouro para Argentina: 5\n",
            "Digite o número de medalhas de prata para Argentina: 7\n",
            "Digite o número de medalhas de bronze para Argentina: 9\n",
            "Digite o nome do país (ou \"sair\" para encerrar): sair\n",
            "\n",
            "Ranking de Medalhas:\n",
            "Brasil: 26 medalhas.\n",
            "Argentina: 21 medalhas.\n",
            "França: 15 medalhas.\n"
          ]
        }
      ],
      "source": [
        "# Resposta aqui\n",
        "def olimpiadas():\n",
        "    paises = {}\n",
        "\n",
        "    while True:\n",
        "        pais = input('Digite o nome do país (ou \"sair\" para encerrar): ')\n",
        "        if pais.lower() == 'sair':\n",
        "            break\n",
        "\n",
        "        if pais in paises:\n",
        "            print(f\"Dados para {pais} já foram inseridos, tente outro país.\")\n",
        "            continue\n",
        "\n",
        "        try:\n",
        "            ouro = int(input(f'Digite o número de medalhas de ouro para {pais}: '))\n",
        "            prata = int(input(f'Digite o número de medalhas de prata para {pais}: '))\n",
        "            bronze = int(input(f'Digite o número de medalhas de bronze para {pais}: '))\n",
        "        except ValueError:\n",
        "            print(\"Por favor, insira um número válido.\")\n",
        "            continue\n",
        "\n",
        "        paises[pais] = {\n",
        "            'ouro': ouro,\n",
        "            'prata': prata,\n",
        "            'bronze': bronze\n",
        "        }\n",
        "\n",
        "\n",
        "    ranking = []\n",
        "    for pais, medalhas in paises.items():\n",
        "        total_medalhas = medalhas['ouro'] + medalhas['prata'] + medalhas['bronze']\n",
        "        ranking.append((pais, total_medalhas))\n",
        "\n",
        "    ranking.sort(key=lambda x: x[1], reverse=True)\n",
        "\n",
        "    print('\\nRanking de Medalhas:')\n",
        "    for pais, total_medalhas in ranking:\n",
        "        print(f'{pais}: {total_medalhas} medalhas.')\n",
        "olimpiadas()"
      ]
    }
  ]
}